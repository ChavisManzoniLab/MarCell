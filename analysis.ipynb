{
 "cells": [
  {
   "cell_type": "markdown",
   "metadata": {},
   "source": [
    "### Initialisation"
   ]
  },
  {
   "cell_type": "markdown",
   "metadata": {},
   "source": [
    "##### Import functions"
   ]
  },
  {
   "cell_type": "code",
   "execution_count": 8,
   "metadata": {},
   "outputs": [],
   "source": [
    "from functions_scriptv2 import *"
   ]
  },
  {
   "cell_type": "markdown",
   "metadata": {},
   "source": [
    "##### Naming convention"
   ]
  },
  {
   "cell_type": "markdown",
   "metadata": {},
   "source": [
    "The titles of your images must follow a convention, please enter its structure here:"
   ]
  },
  {
   "cell_type": "code",
   "execution_count": 9,
   "metadata": {},
   "outputs": [],
   "source": [
    "#Exemple:\n",
    "\"\"\"191001_B4_PPGI2_Naive_P35_M_C57_Rln_PFC1_FIG9_L.czi\"\"\"\n",
    "separator = '_'\n",
    "structure = ['Exp_Date', 'Batch', 'Ori', 'Condition', 'Age', 'Sex', 'Strain', 'Marker', 'Slide_Id', 'Atlas', 'Slide_side']"
   ]
  },
  {
   "cell_type": "markdown",
   "metadata": {},
   "source": [
    "##### Setting the paths"
   ]
  },
  {
   "cell_type": "markdown",
   "metadata": {},
   "source": [
    "Where the data will be stored ?"
   ]
  },
  {
   "cell_type": "code",
   "execution_count": 10,
   "metadata": {},
   "outputs": [],
   "source": [
    "path_to_folder = r\"C:\\Users\\Thenzing\\Julien\\TAPAS-Thomas\""
   ]
  },
  {
   "cell_type": "markdown",
   "metadata": {},
   "source": [
    "Name of the project's folder that will be created"
   ]
  },
  {
   "cell_type": "code",
   "execution_count": 11,
   "metadata": {},
   "outputs": [],
   "source": [
    "name_extraction = \"test_avecjess\""
   ]
  },
  {
   "cell_type": "markdown",
   "metadata": {},
   "source": [
    "This function creates the project's directory\n",
    "\n",
    "```\n",
    "├── name_extraction\n",
    "│   ├── extraction_data\n",
    "│   │   ├── distance\n",
    "│   │   ├── coord\n",
    "│   │   ├── volume\n",
    "│   │   ├── intensity\n",
    "│   │   ├── calibration\n"
   ]
  },
  {
   "cell_type": "code",
   "execution_count": 12,
   "metadata": {},
   "outputs": [
    {
     "data": {
      "text/plain": [
       "'The folder \"test_avecjess\" already exists'"
      ]
     },
     "execution_count": 12,
     "metadata": {},
     "output_type": "execute_result"
    }
   ],
   "source": [
    "initialisation(path_to_folder, name_extraction)"
   ]
  },
  {
   "cell_type": "markdown",
   "metadata": {},
   "source": [
    "Path to TAPAS scripts :\n"
   ]
  },
  {
   "cell_type": "code",
   "execution_count": 13,
   "metadata": {},
   "outputs": [],
   "source": [
    "path_to_tapas_scripts = r\"C:\\Users\\Thenzing\\Julien\\TAPAS-Thomas\\scripts_to_use\""
   ]
  },
  {
   "cell_type": "markdown",
   "metadata": {},
   "source": [
    "\n",
    "Name of cellpose .bat file :\n"
   ]
  },
  {
   "cell_type": "code",
   "execution_count": 14,
   "metadata": {},
   "outputs": [],
   "source": [
    "cellpose_name = \"runCellpose2D-reelin-2023bat.bat\""
   ]
  },
  {
   "cell_type": "markdown",
   "metadata": {},
   "source": [
    "Run this to change the paths in the TAPAS files"
   ]
  },
  {
   "cell_type": "code",
   "execution_count": 15,
   "metadata": {},
   "outputs": [],
   "source": [
    "tapas_file = '02a_tapas-cellpose-reelin.txt'\n",
    "pattern = \"process:calibration\"\n",
    "text_replacement = 'dir:'+path_to_folder+\"\\\\\"+name_extraction+\"\\extraction_data\\calibration\\ \\n\"\n",
    "change_path(path_to_tapas_scripts, tapas_file, pattern, text_replacement)\n",
    "tapas_file = '02a_tapas-cellpose-reelin.txt'\n",
    "pattern = \"process:exe\"\n",
    "text_replacement = 'dir:'+path_to_tapas_scripts + \" \\n\"\n",
    "change_path(path_to_tapas_scripts, tapas_file, pattern, text_replacement)\n",
    "pattern = \"//name\"\n",
    "text_replacement = 'file:'+cellpose_name + \" \\n\"\n",
    "change_path(path_to_tapas_scripts, tapas_file, pattern, text_replacement)\n",
    "\n",
    "tapas_file = 'all_measures_local.txt'\n",
    "pattern = \"process:distanceLine\"\n",
    "text_replacement = 'dir:'+path_to_folder+\"\\\\\"+name_extraction+\"\\extraction_data\\distance\\ \\n\"\n",
    "change_path(path_to_tapas_scripts, tapas_file, pattern, text_replacement)\n",
    "tapas_file = 'all_measures_local.txt'\n",
    "pattern = \"//coord\"\n",
    "text_replacement = 'dir:'+path_to_folder+\"\\\\\"+name_extraction+\"\\extraction_data\\coordinates\\ \\n\"\n",
    "change_path(path_to_tapas_scripts, tapas_file, pattern, text_replacement)\n",
    "tapas_file = 'all_measures_local.txt'\n",
    "pattern = \"//volume\"\n",
    "text_replacement = 'dir:'+path_to_folder+\"\\\\\"+name_extraction+\"\\extraction_data\\\\volume\\ \\n\"\n",
    "change_path(path_to_tapas_scripts, tapas_file, pattern, text_replacement)\n",
    "tapas_file = 'all_measures_local.txt'\n",
    "pattern = \"list:all\"\n",
    "text_replacement = 'dir:'+path_to_folder+\"\\\\\"+name_extraction+\"\\extraction_data\\intensity\\ \\n\"\n",
    "change_path(path_to_tapas_scripts, tapas_file, pattern, text_replacement)\n",
    "tapas_file = 'all_measures_local.txt'\n",
    "pattern = \"process:calibrationSave\"\n",
    "text_replacement = 'dir:'+path_to_folder+\"\\\\\"+name_extraction+\"\\extraction_data\\calibration\\ \\n\"\n",
    "change_path(path_to_tapas_scripts, tapas_file, pattern, text_replacement)"
   ]
  },
  {
   "cell_type": "markdown",
   "metadata": {},
   "source": [
    "This function combines the CSVs created by the TAPAS extraction"
   ]
  },
  {
   "cell_type": "code",
   "execution_count": 16,
   "metadata": {},
   "outputs": [
    {
     "name": "stdout",
     "output_type": "stream",
     "text": [
      "<class 'float'> 0.3119629363074632\n",
      "191001_B4_PPGI2_Naive_P35_M_C57_Rln_PFC1_FIG9_L.czi\n"
     ]
    }
   ],
   "source": [
    "extract(path_to_folder, name_extraction, separator, structure)"
   ]
  }
 ],
 "metadata": {
  "kernelspec": {
   "display_name": "MasCambios",
   "language": "python",
   "name": "python3"
  },
  "language_info": {
   "codemirror_mode": {
    "name": "ipython",
    "version": 3
   },
   "file_extension": ".py",
   "mimetype": "text/x-python",
   "name": "python",
   "nbconvert_exporter": "python",
   "pygments_lexer": "ipython3",
   "version": "3.9.13"
  }
 },
 "nbformat": 4,
 "nbformat_minor": 2
}
