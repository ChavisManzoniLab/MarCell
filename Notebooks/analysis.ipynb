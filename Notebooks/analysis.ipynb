{
 "cells": [
  {
   "cell_type": "markdown",
   "metadata": {},
   "source": [
    "### Initialisation"
   ]
  },
  {
   "cell_type": "markdown",
   "metadata": {},
   "source": [
    "##### Import functions"
   ]
  },
  {
   "cell_type": "code",
   "execution_count": 38,
   "metadata": {},
   "outputs": [],
   "source": [
    "from MarCell import *"
   ]
  },
  {
   "cell_type": "markdown",
   "metadata": {},
   "source": [
    "##### Naming convention"
   ]
  },
  {
   "cell_type": "markdown",
   "metadata": {},
   "source": [
    "The titles of your images must follow a convention, please enter its structure here:"
   ]
  },
  {
   "cell_type": "code",
   "execution_count": 39,
   "metadata": {},
   "outputs": [
    {
     "data": {
      "text/plain": [
       "\" ['Exp_Date', 'Batch', 'Age', 'Sex', 'Condition', 'Marker', 'Location', 'Atlas', 'Side']\\nReelin PFC: ['Exp_Date', 'Batch', 'Ori', 'Condition', 'Age', 'Sex', 'Strain', 'Marker', 'Slide_ID', 'Atlas', 'Slide_side']\\n['Exp_Date', 'Batch', 'Mouse', 'Trt', 'Age', 'Sex', 'Marker', 'Atlas', 'side', 'format', 'tile']\\nGad67 : ['Exp_Date1', 'Exp_Date2','Sex', 'Condition', 'Age', 'Marker', 'Location', 'Atlas', 'Side']\""
      ]
     },
     "execution_count": 39,
     "metadata": {},
     "output_type": "execute_result"
    }
   ],
   "source": [
    "#Exemple:\n",
    "\"\"\"191001_B4_PPGI2_Naive_P35_M_C57_Rln_PFC1_FIG9_L.czi\"\"\"\n",
    "separator = '_' \n",
    "structure = ['Exp_Date', 'Batch', 'Ori', 'Condition', 'Age', 'Sex', 'Strain', 'Marker', 'Slide_ID', 'Atlas', 'Slide_side']\n",
    "\n",
    "ID= ['Batch','Ori','Condition']\n",
    "\"\"\" ['Exp_Date', 'Batch', 'Age', 'Sex', 'Condition', 'Marker', 'Location', 'Atlas', 'Side']\n",
    "Reelin PFC: ['Exp_Date', 'Batch', 'Ori', 'Condition', 'Age', 'Sex', 'Strain', 'Marker', 'Slide_ID', 'Atlas', 'Slide_side']\n",
    "['Exp_Date', 'Batch', 'Mouse', 'Trt', 'Age', 'Sex', 'Marker', 'Atlas', 'side', 'format', 'tile']\n",
    "Gad67 : ['Exp_Date1', 'Exp_Date2','Sex', 'Condition', 'Age', 'Marker', 'Location', 'Atlas', 'Side']\"\"\""
   ]
  },
  {
   "cell_type": "markdown",
   "metadata": {},
   "source": [
    "##### Setting the paths"
   ]
  },
  {
   "cell_type": "markdown",
   "metadata": {},
   "source": [
    "Where the data will be stored ? (The storage place must exist)"
   ]
  },
  {
   "cell_type": "code",
   "execution_count": 40,
   "metadata": {},
   "outputs": [],
   "source": [
    "path_to_folder = r\"C:\\Users\\Thenzing\\Julien\\TAPAS-Thomas\""
   ]
  },
  {
   "cell_type": "markdown",
   "metadata": {},
   "source": [
    "Name of the project's folder that will be created"
   ]
  },
  {
   "cell_type": "code",
   "execution_count": 42,
   "metadata": {},
   "outputs": [],
   "source": [
    "name_extraction = \"ground_truth05\""
   ]
  },
  {
   "cell_type": "markdown",
   "metadata": {},
   "source": [
    "This function creates the project's directory\n",
    "\n",
    "```\n",
    "├── name_extraction\n",
    "│   ├── extraction_data\n",
    "│   │   ├── distance\n",
    "│   │   ├── coord\n",
    "│   │   ├── volume\n",
    "│   │   ├── intensity\n",
    "│   │   ├── calibration\n",
    "|   |   ├── npy \n"
   ]
  },
  {
   "cell_type": "code",
   "execution_count": 43,
   "metadata": {},
   "outputs": [],
   "source": [
    "initialisation(path_to_folder, name_extraction)"
   ]
  },
  {
   "cell_type": "markdown",
   "metadata": {},
   "source": [
    "Path to TAPAS scripts :\n"
   ]
  },
  {
   "cell_type": "code",
   "execution_count": 44,
   "metadata": {},
   "outputs": [],
   "source": [
    "path_to_tapas_scripts = r\"C:\\Users\\Thenzing\\Julien\\TAPAS-Thomas\\scripts_to_use_Jess - Copy\""
   ]
  },
  {
   "cell_type": "markdown",
   "metadata": {},
   "source": [
    "\n",
    "Name of cellpose .bat file :\n"
   ]
  },
  {
   "cell_type": "code",
   "execution_count": 45,
   "metadata": {},
   "outputs": [],
   "source": [
    "cellpose_name = \"runCellpose2D-reelin-2023bat.bat\""
   ]
  },
  {
   "cell_type": "markdown",
   "metadata": {},
   "source": [
    "#### /!\\ Channel specification /!\\\n",
    "##### Please specify the channel you wish to segment:"
   ]
  },
  {
   "cell_type": "code",
   "execution_count": 46,
   "metadata": {},
   "outputs": [],
   "source": [
    "\n",
    "# Specify the channel to be set in all files (replace the number)\n",
    "# Example : if you want channel 3\n",
    "\n",
    "specify_channel = 'channel:1'\n",
    "\n",
    "#additional pre-processing (count starts at zero) : out stack sessions you wish to keep\n",
    "zCrop=True\n",
    "zMin = 0\n",
    "zMax = 18\n",
    "\n",
    "#scaling (usefull for Reelin segmentation)\n",
    "scale=False\n",
    "\n",
    "scale_x = 0.5\n",
    "scale_y = 0.5\n"
   ]
  },
  {
   "cell_type": "markdown",
   "metadata": {},
   "source": [
    "##### Then just run the following cell:"
   ]
  },
  {
   "cell_type": "code",
   "execution_count": 47,
   "metadata": {},
   "outputs": [
    {
     "name": "stdout",
     "output_type": "stream",
     "text": [
      "['01_tapas-preprocess-ROI.txt', '02a_tapas-cellpose-reelin.txt', '02b_tapas-drawroi.txt', '03b_tapas-measure.txt', 'all_measures_local.txt', 'coloc_in_progress.txt', 'Save .npy files for segmetation st.txt', 'subprocess_modif240624.txt']\n",
      "Channel specified in all files!\n",
      "01_tapas-preprocess-ROI.txt\n",
      "02a_tapas-cellpose-reelin.txt\n",
      "02b_tapas-drawroi.txt\n"
     ]
    }
   ],
   "source": [
    "import os\n",
    "\n",
    "# Define the directory containing the files and the base string to find and replace\n",
    "directory_path = path_to_tapas_scripts\n",
    "\n",
    "# Get the list of files in the directory\n",
    "file_list = [f for f in os.listdir(directory_path) if os.path.isfile(os.path.join(directory_path, f))]\n",
    "file_list = [f for f in file_list if \".txt\" in f]\n",
    "print(file_list)\n",
    "# Create a list of possible channel strings : if you have more channels add them to the list\n",
    "channel_options = ['channel:1', 'channel:2', 'channel:3', 'channel:4']\n",
    "\n",
    "# Iterate over each file\n",
    "for file_name in file_list:\n",
    "    file_path = os.path.join(directory_path, file_name)\n",
    "    \n",
    "    # Step 1: Read the content of the file\n",
    "    with open(file_path, 'r') as file:\n",
    "        content = file.read()\n",
    "    \n",
    "    # Step 2: Replace the first found channel option with the specified channel\n",
    "    updated_content = content\n",
    "    for channel in channel_options:\n",
    "        if channel in updated_content:\n",
    "            updated_content = updated_content.replace(channel, specify_channel, 1)\n",
    "            break\n",
    "\n",
    "    # Step 3: Write the updated content back to the file\n",
    "    with open(file_path, 'w') as file:\n",
    "        file.write(updated_content)\n",
    "\n",
    "print(\"Channel specified in all files!\")\n",
    "\n",
    "# Print the files where the channel was specified\n",
    "for file_name in file_list:\n",
    "    file_path = os.path.join(directory_path, file_name)\n",
    "    with open(file_path, 'r') as file:\n",
    "        content = file.read()\n",
    "        if specify_channel in content:\n",
    "            print(file_name)\n"
   ]
  },
  {
   "cell_type": "markdown",
   "metadata": {},
   "source": [
    "Run this to change the paths in the TAPAS files"
   ]
  },
  {
   "cell_type": "code",
   "execution_count": 48,
   "metadata": {},
   "outputs": [],
   "source": [
    "if not scale:\n",
    "    scale_x = 1.\n",
    "    scale_y = 1.\n",
    "tapas_file = '01_tapas-preprocess-ROI.txt'\n",
    "pattern = 'process:scale'\n",
    "text_replacement = 'scalex:'+str(scale_x)+'\\n'\n",
    "change_path(path_to_tapas_scripts, tapas_file, pattern, text_replacement)\n",
    "\n",
    "tapas_file = '01_tapas-preprocess-ROI.txt'\n",
    "pattern = 'scalex:'+str(scale_x)\n",
    "text_replacement = 'scaley:'+str(scale_y)+'\\n'\n",
    "change_path(path_to_tapas_scripts, tapas_file, pattern, text_replacement)\n",
    "\n",
    "if not zCrop:\n",
    "    zMin=0\n",
    "    zMax=10000   \n",
    "tapas_file = '01_tapas-preprocess-ROI.txt'\n",
    "pattern = 'process:cropZ'\n",
    "text_replacement = 'zMin:'+str(zMin)+'\\n'\n",
    "change_path(path_to_tapas_scripts, tapas_file, pattern, text_replacement)\n",
    "\n",
    "tapas_file = '01_tapas-preprocess-ROI.txt'\n",
    "pattern = 'zMin:'\n",
    "text_replacement = 'zMax:'+str(zMax)+'\\n'\n",
    "change_path(path_to_tapas_scripts, tapas_file, pattern, text_replacement)\n",
    "\n",
    "\n",
    "tapas_file = '02a_tapas-cellpose-reelin.txt'\n",
    "pattern = \"process:calibration\"\n",
    "text_replacement = 'dir:'+path_to_folder+\"\\\\\"+name_extraction+\"\\extraction_data\\calibration\\ \\n\"\n",
    "change_path(path_to_tapas_scripts, tapas_file, pattern, text_replacement)\n",
    "\n",
    "tapas_file = '02a_tapas-cellpose-reelin.txt'\n",
    "pattern = \"Dir_npy\"\n",
    "text_replacement = 'dir:'+path_to_folder+\"\\\\\"+name_extraction+\"\\extraction_data\\\\npy\\ \\n\"\n",
    "change_path(path_to_tapas_scripts, tapas_file, pattern, text_replacement)\n",
    "\n",
    "tapas_file = '02a_tapas-cellpose-reelin.txt'\n",
    "pattern = \"process:exe\"\n",
    "text_replacement = 'dir:'+path_to_tapas_scripts + \" \\n\"\n",
    "change_path(path_to_tapas_scripts, tapas_file, pattern, text_replacement)\n",
    "\n",
    "pattern = \"//name\"\n",
    "text_replacement = 'file:'+cellpose_name + \" \\n\"\n",
    "change_path(path_to_tapas_scripts, tapas_file, pattern, text_replacement)\n",
    "\n",
    "tapas_file = 'all_measures_local.txt'\n",
    "pattern = \"process:distanceLine\"\n",
    "text_replacement = 'dir:'+path_to_folder+\"\\\\\"+name_extraction+\"\\extraction_data\\distance\\ \\n\"\n",
    "change_path(path_to_tapas_scripts, tapas_file, pattern, text_replacement)\n",
    "\n",
    "tapas_file = 'all_measures_local.txt'\n",
    "pattern = \"//coord\"\n",
    "text_replacement = 'dir:'+path_to_folder+\"\\\\\"+name_extraction+\"\\extraction_data\\coordinates\\ \\n\"\n",
    "change_path(path_to_tapas_scripts, tapas_file, pattern, text_replacement)\n",
    "\n",
    "tapas_file = 'all_measures_local.txt'\n",
    "pattern = \"//volume\"\n",
    "text_replacement = 'dir:'+path_to_folder+\"\\\\\"+name_extraction+\"\\extraction_data\\\\volume\\ \\n\"\n",
    "change_path(path_to_tapas_scripts, tapas_file, pattern, text_replacement)\n",
    "\n",
    "tapas_file = 'all_measures_local.txt'\n",
    "pattern = \"list:all\"\n",
    "text_replacement = 'dir:'+path_to_folder+\"\\\\\"+name_extraction+\"\\extraction_data\\intensity\\ \\n\"\n",
    "change_path(path_to_tapas_scripts, tapas_file, pattern, text_replacement)\n",
    "\n",
    "tapas_file = 'all_measures_local.txt'\n",
    "pattern = \"process:calibrationSave\"\n",
    "text_replacement = 'dir:'+path_to_folder+\"\\\\\"+name_extraction+\"\\extraction_data\\calibration\\ \\n\"\n",
    "change_path(path_to_tapas_scripts, tapas_file, pattern, text_replacement)"
   ]
  },
  {
   "cell_type": "markdown",
   "metadata": {},
   "source": [
    "### /!\\ Wait for segmentation before executing the rest (go to TAPAS)"
   ]
  },
  {
   "cell_type": "markdown",
   "metadata": {},
   "source": [
    "This function combines the CSVs created by the TAPAS extraction"
   ]
  },
  {
   "cell_type": "code",
   "execution_count": 10,
   "metadata": {},
   "outputs": [
    {
     "name": "stdout",
     "output_type": "stream",
     "text": [
      "Merging csv for the image 191001_B4_PPGI2_Naive_P35_M_C57_Rln_PFC1_FIG9_L.czi\n",
      "Merging csv for the image 191001_B4_PPGI2_Naive_P35_M_C57_Rln_PFC2_FIG10_L.czi\n",
      "Merging csv for the image 191001_B4_PPGI2_Naive_P35_M_C57_Rln_PFC3_FIG11_R.czi\n",
      "Merging csv for the image 191001_B4_PPGI2_Naive_P35_M_C57_Rln_PFC4_FIG13_R.czi\n",
      "Merging csv for the image 191001_B4_PPGI2_Naive_P35_M_C57_Rln_PFC5_FIG14_L.czi\n",
      "Merging csv for the image 191001_B4_PPGI2_Naive_P35_M_C57_Rln_PFC6_FIG15_L.czi\n",
      "Merging csv for the image 191107_B5_Mouse3_Win_P37_M_C57_Rln_PFC1_FIG10_R.czi\n",
      "Merging csv for the image 191107_B5_Mouse3_Win_P37_M_C57_Rln_PFC2_FIG9_R.czi\n",
      "Merging csv for the image 191107_B5_Mouse3_Win_P37_M_C57_Rln_PFC3_FIG11_L.czi\n",
      "Merging csv for the image 191107_B5_Mouse3_Win_P37_M_C57_Rln_PFC4_FIG12_L.czi\n",
      "Merging csv for the image 191107_B5_Mouse3_Win_P37_M_C57_Rln_PFC5_FIG13_R.czi\n",
      "Merging csv for the image 191107_B5_Mouse3_Win_P37_M_C57_Rln_PFC6_FIG14_L.czi\n",
      "Merging csv for the image 191112_B5_Mouse3_Win_P37_M_C57_Rln_PFC7_FIG15_R.czi\n",
      "Merging csv for the image 19211_B2_Mouse0_Naive_P36_M_C57_Rln_PFC1_FIG9_L.czi\n",
      "Merging csv for the image 19211_B2_Mouse0_Naive_P36_M_C57_Rln_PFC2_FIG11_L.czi\n",
      "Merging csv for the image 19211_B2_Mouse0_Naive_P36_M_C57_Rln_PFC3_FIG13_L.czi\n",
      "Merging csv for the image 19212_B2_Mouse0_Naive_P36_M_C57_Rln_PFC4_FIG14_R.czi\n",
      "Merging csv for the image 19212_B2_Mouse1_Win_P36_M_C57_Rln_PFC1_FIG15_R.czi\n",
      "Merging csv for the image 19212_B2_Mouse1_Win_P36_M_C57_Rln_PFC2_FIG12_R.czi\n",
      "Merging csv for the image 19212_B2_Mouse1_Win_P36_M_C57_Rln_PFC4_FIG11_L.czi\n",
      "Merging csv for the image 19212_B2_Mouse2_Veh_P36_M_C57_Rln_PFC1_FIG10_R.czi\n",
      "Merging csv for the image 19212_B2_Mouse2_Veh_P36_M_C57_Rln_PFC2_FIG12_R.czi\n",
      "Merging csv for the image 19214_B2_Mouse2_Veh_P36_M_C57_Rln_PFC4_FIG11_L.czi\n",
      "Merging csv for the image 19215_B2_Mouse4_Veh_P36_M_C57_Rln_PFC1_FIG12_R.czi\n",
      "Merging csv for the image 19215_B2_Mouse4_Veh_P36_M_C57_Rln_PFC2_FIG11_L.czi\n",
      "Merging csv for the image 19215_B2_Mouse4_Veh_P36_M_C57_Rln_PFC3_FIG10_R.czi\n",
      "Merging csv for the image 19218_B2_Mouse4_Veh_P36_M_C57_Rln_PFC4_FIG13_R.czi\n",
      "Merging csv for the image 19218_B2_Mouse4_Veh_P36_M_C57_Rln_PFC5_FIG15_R.czi\n",
      "Merging csv for the image 19218_B2_Mouse5_Naive_P36_M_C57_Rln_PFC1_FIG11_L.czi\n",
      "Merging csv for the image 19219_B2_Mouse5_Naive_P36_M_C57_Rln_PFC2_FIG10_R.czi\n",
      "Merging csv for the image 19219_B2_Mouse5_Naive_P36_M_C57_Rln_PFC3_FIG11_L.czi\n",
      "Merging csv for the image 19318_B3_Mouse0_Naive_P36_M_C57_Rln_PFC1_FIG10_L.czi\n",
      "Merging csv for the image 19318_B3_Mouse0_Naive_P36_M_C57_Rln_PFC2_FIG11_L.czi\n",
      "Merging csv for the image 19318_B3_Mouse0_Naive_P36_M_C57_Rln_PFC3_FIG12_L.czi\n",
      "Merging csv for the image 19318_B3_Mouse0_Naive_P36_M_C57_Rln_PFC4_FIG13_L.czi\n",
      "Merging csv for the image 19318_B3_Mouse0_Naive_P36_M_C57_Rln_PFC5_FIG15_L.czi\n",
      "Merging csv for the image 19318_B3_Mouse0_Naive_P36_M_C57_Rln_PFC6_FIG14_L.czi\n",
      "Merging csv for the image 19319_B3_Mouse1_Win_P36_M_C57_Rln_PFC1_FIG10_L.czi\n",
      "Merging csv for the image 19319_B3_Mouse1_Win_P36_M_C57_Rln_PFC2_FIG11_L.czi\n",
      "Merging csv for the image 19319_B3_Mouse1_Win_P36_M_C57_Rln_PFC3_FIG12_L.czi\n",
      "Merging csv for the image 19319_B3_Mouse1_Win_P36_M_C57_Rln_PFC4_FIG13_R.czi\n",
      "Merging csv for the image 19320_B3_Mouse1_Win_P36_M_C57_Rln_PFC5_FIG14_R.czi\n",
      "Merging csv for the image 19320_B3_Mouse1_Win_P36_M_C57_Rln_PFC6_FIG15_L.czi\n",
      "Merging csv for the image 19321_B3_Mouse2_Win_P36_M_C57_Rln_PFC1_FIG10_R.czi\n",
      "Merging csv for the image 19321_B3_Mouse2_Win_P36_M_C57_Rln_PFC2_FIG11_L.czi\n",
      "Merging csv for the image 19321_B3_Mouse2_Win_P36_M_C57_Rln_PFC3_FIG12_L.czi\n",
      "Merging csv for the image 19321_B3_Mouse2_Win_P36_M_C57_Rln_PFC4_FIG13_R.czi\n",
      "Merging csv for the image 19321_B3_Mouse2_Win_P36_M_C57_Rln_PFC5_FIG15_R.czi\n",
      "Merging csv for the image 19321_B3_Mouse2_Win_P36_M_C57_Rln_PFC6_FIG14_L.czi\n",
      "Merging csv for the image 19324_B3_Mouse3_Veh_P36_M_C57_Rln_PFC1_FIG9_L.czi\n",
      "Merging csv for the image 19324_B3_Mouse3_Veh_P36_M_C57_Rln_PFC2_FIG11_L.czi\n",
      "Merging csv for the image 19325_B3_Mouse3_Veh_P36_M_C57_Rln_PFC4_FIG12_R.czi\n",
      "Merging csv for the image 19325_B3_Mouse3_Veh_P36_M_C57_Rln_PFC5_FIG14_L.czi\n",
      "Merging csv for the image 19325_B3_Mouse3_Veh_P36_M_C57_Rln_PFC6_FIG15_L.czi\n",
      "Merging csv for the image 19325_B3_Mouse4_Naive_P36_M_C57_Rln_PFC1_FIG10_L.czi\n",
      "Merging csv for the image 19325_B3_Mouse4_Naive_P36_M_C57_Rln_PFC2_FIG9_L.czi\n",
      "Merging csv for the image 19325_B3_Mouse4_Naive_P36_M_C57_Rln_PFC3_FIG11_L.czi\n",
      "Merging csv for the image 19325_B3_Mouse4_Naive_P36_M_C57_Rln_PFC4_FIG12_L.czi\n",
      "Merging csv for the image 19325_B3_Mouse4_Naive_P36_M_C57_Rln_PFC5_FIG13_L.czi\n",
      "Merging csv for the image 19325_B3_Mouse4_Naive_P36_M_C57_Rln_PFC6_FIG14_L.czi\n",
      "Merging csv for the image 19325_B3_Mouse5_Veh_P36_M_C57_Rln_PFC1_FIG10_L.czi\n",
      "Merging csv for the image 19325_B3_Mouse5_Veh_P36_M_C57_Rln_PFC2_FIG11_L.czi\n",
      "Merging csv for the image 19325_B3_Mouse5_Veh_P36_M_C57_Rln_PFC3_FIG12_L.czi\n",
      "Merging csv for the image 19325_B3_Mouse5_Veh_P36_M_C57_Rln_PFC4_FIG13_L.czi\n",
      "Merging csv for the image 19325_B3_Mouse5_Veh_P36_M_C57_Rln_PFC5_FIG14_R.czi\n",
      "Merging csv for the image 19325_B3_Mouse5_Veh_P36_M_C57_Rln_PFC6_FIG15_R.czi\n",
      "Merging csv for the image 19326_B2_Mouse0_Naive_P36_M_C57_Rln_PFC1_FIG10_R.czi\n",
      "Merging csv for the image 19326_B2_Mouse0_Naive_P36_M_C57_Rln_PFC2_FIG12_L.czi\n",
      "Merging csv for the image 19326_B2_Mouse0_Naive_P36_M_C57_Rln_PFC3_FIG15_L.czi\n",
      "Merging csv for the image 19326_B2_Mouse1_Win_P36_M_C57_Rln_PFC1_FIG10_L.czi\n",
      "Merging csv for the image 19326_B2_Mouse1_Win_P36_M_C57_Rln_PFC3_FIG13_R.czi\n",
      "Merging csv for the image 19326_B2_Mouse1_Win_P36_M_C57_Rln_PFC3_FIG14_R.czi\n",
      "Merging csv for the image 19326_B2_Mouse3_Win_P36_M_C57_Rln_PFC2_FIG15_L.czi\n",
      "Merging csv for the image 19326_B2_Mouse3_Win_P36_M_C57_Rln_PFC3_FIG10_L.czi\n",
      "Merging csv for the image 19326_B2_Mouse3_Win_P36_M_C57_Rln_PFC3_FIG14_R.czi\n",
      "Merging csv for the image 19326_B2_Mouse4_Veh_P36_M_C57_Rln_PFC1_FIG14_L.czi\n",
      "Merging csv for the image 19327_B2_Mouse5_Naive_P36_M_C57_Rln_PFC2_FIG14_R.czi\n",
      "Merging csv for the image 19327_B2_Mouse5_Naive_P36_M_C57_Rln_PFC3_FIG15_L.czi\n",
      "Merging csv for the image 210222_B6_Mouse1_SRWin_P36_M_C57_Rln_PFC1_FIG9_R.czi\n",
      "Merging csv for the image 210222_B6_Mouse1_SRWin_P36_M_C57_Rln_PFC2_FIG10_R.czi\n",
      "Merging csv for the image 210222_B6_Mouse1_SRWin_P36_M_C57_Rln_PFC3_FIG11_R.czi\n",
      "Merging csv for the image 210222_B6_Mouse1_SRWin_P36_M_C57_Rln_PFC4_FIG12_R.czi\n",
      "Merging csv for the image 210223_B6_Mouse1_SRWin_P36_M_C57_Rln_PFC5_FIG13_R.czi\n",
      "Merging csv for the image 210223_B6_Mouse1_SRWin_P36_M_C57_Rln_PFC7_FIG15_R.czi\n",
      "Merging csv for the image 210223_B6_Mouse2_SRWin_P36_M_C57_Rln_PFC1_FIG9_L.czi\n",
      "Merging csv for the image 210224_B6_Mouse2_SRWin_P36_M_C57_Rln_PFC2_FIG10_L.czi\n",
      "Merging csv for the image 210224_B6_Mouse2_SRWin_P36_M_C57_Rln_PFC3_FIG11_L.czi\n",
      "Merging csv for the image 210224_B6_Mouse2_SRWin_P36_M_C57_Rln_PFC4_FIG12_R.czi\n",
      "Merging csv for the image 210224_B6_Mouse2_SRWin_P36_M_C57_Rln_PFC5_FIG13_R.czi\n",
      "Merging csv for the image 210228_B6_Mouse2_SRWin_P36_M_C57_Rln_PFC7_FIG15_R.czi\n",
      "Merging csv for the image 210228_B6_Mouse3_SRWin_P36_M_C57_Rln_PFC1_FIG9_R.czi\n",
      "Merging csv for the image 210228_B6_Mouse3_SRWin_P36_M_C57_Rln_PFC2_FIG10_R.czi\n",
      "Merging csv for the image 210228_B6_Mouse3_SRWin_P36_M_C57_Rln_PFC3_FIG11_R.czi\n",
      "Merging csv for the image 21301_B6_Mouse3_SRWin_P36_M_C57_Rln_PFC4_FIG12_R.czi\n",
      "Merging csv for the image 21301_B6_Mouse3_SRWin_P36_M_C57_Rln_PFC5_FIG13_R.czi\n",
      "Merging csv for the image 21301_B6_Mouse3_SRWin_P36_M_C57_Rln_PFC6_FIG14_R.czi\n",
      "Merging csv for the image 21301_B6_Mouse3_SRWin_P36_M_C57_Rln_PFC7_FIG15_L.czi\n",
      "Merging csv for the image 21301_B6_Mouse4_SRWin_P36_M_C57_Rln_PFC1_FIG9_R.czi\n",
      "Merging csv for the image 21301_B6_Mouse4_SRWin_P36_M_C57_Rln_PFC2_FIG10_R.czi\n",
      "Merging csv for the image 21301_B6_Mouse4_SRWin_P36_M_C57_Rln_PFC3_FIG11_R.czi\n",
      "Merging csv for the image 21301_B6_Mouse4_SRWin_P36_M_C57_Rln_PFC4_FIG12_R.czi\n",
      "Merging csv for the image 21304_B6_Mouse4_SRWin_P36_M_C57_Rln_PFC4_FIG13_R.czi\n",
      "Merging csv for the image 21304_B6_Mouse4_SRWin_P36_M_C57_Rln_PFC5_FIG14_R.czi\n",
      "Merging csv for the image 21305_B6_Mouse5_Win_P36_M_C57_Rln_ PFC2_FIG10_L.czi\n",
      "Merging csv for the image 21305_B6_Mouse5_Win_P36_M_C57_Rln_PFC4_FIG12_L.czi\n",
      "Merging csv for the image 21305_B6_Mouse5_Win_P36_M_C57_Rln_PFC5_FIG13_L.czi\n",
      "Merging csv for the image 21307_B6_Mouse5_Win_P36_M_C57_Rln_PFC6_FIG14_L.czi\n",
      "Merging csv for the image 21307_B6_Mouse5_Win_P36_M_C57_Rln_PFC7_FIG15_R.czi\n",
      "Merging csv for the image 21307_B6_Mouse6_SRWin_P36_M_C57_Rln_PFC1_FIG9_L.czi\n",
      "Merging csv for the image 21308_B6_Mouse6_SRWin_P36_M_C57_Rln_PFC2_FIG10_R.czi\n",
      "Merging csv for the image 21317_B6_Mouse6_SRWin_P36_M_C57_Rln_PFC4_FIG12_R.czi\n",
      "Merging csv for the image 21317_B6_Mouse6_SRWin_P36_M_C57_Rln_PFC5_FIG13_L _UPWARD.czi\n",
      "Merging csv for the image 21318_B6_Mouse6_SRWin_P36_M_C57_Rln_PFC6_FIG14_R.czi\n",
      "Merging csv for the image 21318_B6_Mouse6_SRWin_P36_M_C57_Rln_PFC7_FIG15_R.czi\n",
      "Merging csv for the image 21513_B10_Mouse6_Win_P39_M_C57_Rln_PFC2_FIG10_R.czi\n",
      "Merging csv for the image 21513_B10_Mouse6_Win_P39_M_C57_Rln_PFC3_FIG11_R.czi\n",
      "Merging csv for the image 21513_B10_Mouse6_Win_P39_M_C57_Rln_PFC4_FIG12_R.czi\n",
      "Merging csv for the image 21513_B10_Mouse6_Win_P39_M_C57_Rln_PFC5_FIG13_R.czi\n",
      "Merging csv for the image 21513_B10_Mouse6_Win_P39_M_C57_Rln_PFC6_FIG14_L.czi\n",
      "Merging csv for the image 21513_B10_Mouse6_Win_P39_M_C57_Rln_PFC7_FIG15_R.czi\n",
      "Merging csv for the image 21516_B10_Mouse1_SRWin_P39_M_C57_Rln_PFC1_FIG9_L.czi\n",
      "Merging csv for the image 21516_B10_Mouse1_SRWin_P39_M_C57_Rln_PFC2_FIG10_L.czi\n",
      "Merging csv for the image 21516_B10_Mouse1_SRWin_P39_M_C57_Rln_PFC3_FIG11_L.czi\n",
      "Merging csv for the image 21516_B10_Mouse1_SRWin_P39_M_C57_Rln_PFC4_FIG12_R.czi\n",
      "Merging csv for the image 21516_B10_Mouse1_SRWin_P39_M_C57_Rln_PFC5_FIG13_L.czi\n",
      "Merging csv for the image 21516_B10_Mouse1_SRWin_P39_M_C57_Rln_PFC6_FIG14_L.czi\n",
      "Merging csv for the image 21516_B10_Mouse1_SRWin_P39_M_C57_Rln_PFC7_FIG15_L.czi\n",
      "Merging csv for the image 21517_B10_Mouse2_SRWin_P39_M_C57_Rln_PFC1_FIG9_R.czi\n",
      "Merging csv for the image 21517_B10_Mouse2_SRWin_P39_M_C57_Rln_PFC2_FIG10_R.czi\n",
      "Merging csv for the image 21517_B10_Mouse2_SRWin_P39_M_C57_Rln_PFC3_FIG11_R.czi\n",
      "Merging csv for the image 21517_B10_Mouse2_SRWin_P39_M_C57_Rln_PFC4_FIG12_R.czi\n",
      "Merging csv for the image 21517_B10_Mouse2_SRWin_P39_M_C57_Rln_PFC5_FIG13_R.czi\n",
      "Merging csv for the image 21518_B10_Mouse2_SRWin_P39_M_C57_Rln_PFC6_FIG14_R.czi\n",
      "Merging csv for the image 21518_B10_Mouse2_SRWin_P39_M_C57_Rln_PFC7_FIG15_R.czi\n",
      "Merging csv for the image 21518_B10_Mouse4_SRWin_P39_M_C57_Rln_PFC1_FIG9_R.czi\n",
      "Merging csv for the image 21518_B10_Mouse4_SRWin_P39_M_C57_Rln_PFC2_FIG10_R.czi\n",
      "Merging csv for the image 21518_B10_Mouse4_SRWin_P39_M_C57_Rln_PFC3_FIG11_R.czi\n",
      "Merging csv for the image 21518_B10_Mouse4_SRWin_P39_M_C57_Rln_PFC4_FIG12_R.czi\n",
      "Merging csv for the image 21523_B10_Mouse4_SRWin_P39_M_C57_Rln_PFC5_FIG13_R.czi\n",
      "Merging csv for the image 21523_B10_Mouse4_SRWin_P39_M_C57_Rln_PFC6_FIG14_R.czi\n",
      "Merging csv for the image 21523_B10_Mouse4_SRWin_P39_M_C57_Rln_PFC7_FIG15_R.czi\n",
      "Merging csv for the image 21524_B10_Mouse3_Win_P39_M_C57_Rln_PFC1_FIG9_R.czi\n",
      "Merging csv for the image 21524_B10_Mouse3_Win_P39_M_C57_Rln_PFC2_FIG10_R.czi\n",
      "Merging csv for the image 21527_B10_Mouse5_SRWin_P39_M_C57_Rln_PFC1_FIG9_R.czi\n",
      "Merging csv for the image 21527_B10_Mouse5_SRWin_P39_M_C57_Rln_PFC2_FIG10_R.czi\n",
      "Merging csv for the image 21527_B10_Mouse5_SRWin_P39_M_C57_Rln_PFC3_FIG11_R.czi\n",
      "Merging csv for the image 21527_B10_Mouse5_SRWin_P39_M_C57_Rln_PFC4_FIG12_R.czi\n",
      "Merging csv for the image 21527_B10_Mouse5_SRWin_P39_M_C57_Rln_PFC4_FIG12_R_UPSDOWN.czi\n",
      "Merging csv for the image 21531_B10_Mouse5_SRWin_P39_M_C57_Rln_PFC6_FIG14_R.czi\n",
      "Merging csv for the image 21531_B10_Mouse5_SRWin_P39_M_C57_Rln_PFC7_FIG15_R.czi\n",
      "Merging csv for the image 21531_B6_Mouse1_SRWin_P36_M_C57_Rln_PFC1_FIG9_R.czi\n",
      "Merging csv for the image 21531_B6_Mouse1_SRWin_P36_M_C57_Rln_PFC2_FIG10_R.czi\n",
      "Merging csv for the image 21531_B6_Mouse1_SRWin_P36_M_C57_Rln_PFC3_FIG11_R.czi\n",
      "Merging csv for the image 21531_B6_Mouse1_SRWin_P36_M_C57_Rln_PFC4_FIG12_R.czi\n",
      "Merging csv for the image 21531_B6_Mouse1_SRWin_P36_M_C57_Rln_PFC5_FIG13_L.czi\n",
      "Merging csv for the image 24212_B2_Mouse3_Win_P36_M_C57_Rln_PFC2_FIG12_R.czi\n",
      "Merging csv for the image 24212_B2_Mouse3_Win_P36_M_C57_Rln_PFC4_FIG13_R.czi\n",
      "Saved the csv with all the data\n"
     ]
    }
   ],
   "source": [
    "extract(path_to_folder, name_extraction, separator, structure, ID, ROI='line')\n",
    "#ROI = 'line' if distance to segment"
   ]
  },
  {
   "cell_type": "code",
   "execution_count": 11,
   "metadata": {},
   "outputs": [],
   "source": [
    "df1 = pd.read_csv(r\"C:\\Users\\Thenzing\\Julien\\TAPAS-Thomas\\reelin-310724\\extraction_data\\extraction_2024_08_01-10_38_31.csv\")\n",
    "df2 = pd.read_csv(r\"C:\\Users\\Thenzing\\Julien\\TAPAS-Thomas\\reelin-310724\\extraction_data\\extraction_2024_08_07-14_55_27.csv\")"
   ]
  },
  {
   "cell_type": "code",
   "execution_count": 15,
   "metadata": {},
   "outputs": [
    {
     "name": "stdout",
     "output_type": "stream",
     "text": [
      "39\n",
      "45\n"
     ]
    }
   ],
   "source": [
    "print(len(df1.columns))\n",
    "print(len(df2.columns))"
   ]
  },
  {
   "cell_type": "code",
   "execution_count": 16,
   "metadata": {},
   "outputs": [],
   "source": [
    "list1=df1.columns.to_list()\n",
    "list2=df2.columns.to_list()"
   ]
  },
  {
   "cell_type": "code",
   "execution_count": 19,
   "metadata": {},
   "outputs": [
    {
     "name": "stdout",
     "output_type": "stream",
     "text": [
      "['Unnamed: 0.1', 'Unnamed: 0', 'imageLabel_x', 'Label', 'distPix', 'distUnit', 'side', 'length', 'P1x', 'P1y', 'P2x', 'P2y', 'Cx_Pix', 'Cy_Pix', 'Cz_Pix', 'Z-Section', 'PixelSize_Z', 'Height', 'pix_to_micron', 'volume_roi', 'volumic_density', 'Volume_Unit', 'Volume_Pix', 'mean_intensity', 'intensity_sd', 'min_intensity', 'max_intensity', 'voxel_intensity_sum', 'Exp_Date', 'Batch', 'Age', 'Sex', 'Marker', 'Atlas', 'bins']\n"
     ]
    }
   ],
   "source": [
    "matching_elements = [element for element in list1 if element in list2]\n",
    "print(matching_elements)"
   ]
  },
  {
   "cell_type": "code",
   "execution_count": 22,
   "metadata": {},
   "outputs": [
    {
     "name": "stdout",
     "output_type": "stream",
     "text": [
      "['Mouse', 'Trt', 'format', 'tile']\n",
      "['imageSignal', 'imageLabel_y', 'pos', 'segment', 'Ori', 'Condition', 'Strain', 'Slide_ID', 'Slide_side', 'ID']\n"
     ]
    }
   ],
   "source": [
    "unique1_elements = [element for element in list1 if element not in list2]\n",
    "print(unique1_elements)\n",
    "unique2_elements = [element for element in list2 if element not in list1]\n",
    "print(unique2_elements)"
   ]
  },
  {
   "cell_type": "code",
   "execution_count": null,
   "metadata": {},
   "outputs": [],
   "source": []
  }
 ],
 "metadata": {
  "kernelspec": {
   "display_name": "MasCambios",
   "language": "python",
   "name": "python3"
  },
  "language_info": {
   "codemirror_mode": {
    "name": "ipython",
    "version": 3
   },
   "file_extension": ".py",
   "mimetype": "text/x-python",
   "name": "python",
   "nbconvert_exporter": "python",
   "pygments_lexer": "ipython3",
   "version": "3.9.13"
  }
 },
 "nbformat": 4,
 "nbformat_minor": 2
}
